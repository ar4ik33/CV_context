{
 "cells": [
  {
   "cell_type": "code",
   "execution_count": 1,
   "id": "e638d042",
   "metadata": {},
   "outputs": [],
   "source": [
    "from torch.utils.data import Dataset, DataLoader\n",
    "from torchvision import datasets, models, transforms\n",
    "import torchvision.transforms as transforms\n",
    "from PIL import Image\n",
    "from os import listdir\n",
    "import numpy as np\n",
    "import torch\n",
    "from torch.utils.data.sampler import SubsetRandomSampler\n",
    "import string\n",
    "import pandas as pd\n",
    "import torch.nn as nn\n",
    "import torch.optim as optim\n",
    "import matplotlib.pyplot as plt"
   ]
  },
  {
   "cell_type": "code",
   "execution_count": 2,
   "id": "91219dc5",
   "metadata": {},
   "outputs": [],
   "source": [
    "torch.cuda.empty_cache()"
   ]
  },
  {
   "cell_type": "code",
   "execution_count": null,
   "id": "ac3ef0cb",
   "metadata": {},
   "outputs": [],
   "source": [
    "pip install pytorch_pretrained_vit"
   ]
  },
  {
   "cell_type": "code",
   "execution_count": 3,
   "id": "cb1bc18b",
   "metadata": {},
   "outputs": [],
   "source": [
    "path_to_dataset = \"./vk-made-sports-image-classification\""
   ]
  },
  {
   "cell_type": "code",
   "execution_count": 4,
   "id": "72d40c7e",
   "metadata": {},
   "outputs": [
    {
     "data": {
      "text/html": [
       "<div>\n",
       "<style scoped>\n",
       "    .dataframe tbody tr th:only-of-type {\n",
       "        vertical-align: middle;\n",
       "    }\n",
       "\n",
       "    .dataframe tbody tr th {\n",
       "        vertical-align: top;\n",
       "    }\n",
       "\n",
       "    .dataframe thead th {\n",
       "        text-align: right;\n",
       "    }\n",
       "</style>\n",
       "<table border=\"1\" class=\"dataframe\">\n",
       "  <thead>\n",
       "    <tr style=\"text-align: right;\">\n",
       "      <th></th>\n",
       "      <th>image_id</th>\n",
       "      <th>label</th>\n",
       "    </tr>\n",
       "  </thead>\n",
       "  <tbody>\n",
       "    <tr>\n",
       "      <th>0</th>\n",
       "      <td>46514481-2d8b-4d49-8991-012e1bfd34f6.jpeg</td>\n",
       "      <td>swimming</td>\n",
       "    </tr>\n",
       "    <tr>\n",
       "      <th>1</th>\n",
       "      <td>ec66e513-adac-4a30-b6a9-3d647ee6e46b.jpeg</td>\n",
       "      <td>greco-Roman_wrestling</td>\n",
       "    </tr>\n",
       "    <tr>\n",
       "      <th>2</th>\n",
       "      <td>4d60732e-d680-4bfd-9067-70ff8137f537.jpeg</td>\n",
       "      <td>running</td>\n",
       "    </tr>\n",
       "    <tr>\n",
       "      <th>3</th>\n",
       "      <td>93327011-8e3d-4f0d-849d-a26ddaf6488b.jpeg</td>\n",
       "      <td>football</td>\n",
       "    </tr>\n",
       "    <tr>\n",
       "      <th>4</th>\n",
       "      <td>b6853478-48c1-48b2-b104-74903730c831.jpeg</td>\n",
       "      <td>sailing</td>\n",
       "    </tr>\n",
       "  </tbody>\n",
       "</table>\n",
       "</div>"
      ],
      "text/plain": [
       "                                    image_id                  label\n",
       "0  46514481-2d8b-4d49-8991-012e1bfd34f6.jpeg               swimming\n",
       "1  ec66e513-adac-4a30-b6a9-3d647ee6e46b.jpeg  greco-Roman_wrestling\n",
       "2  4d60732e-d680-4bfd-9067-70ff8137f537.jpeg                running\n",
       "3  93327011-8e3d-4f0d-849d-a26ddaf6488b.jpeg               football\n",
       "4  b6853478-48c1-48b2-b104-74903730c831.jpeg                sailing"
      ]
     },
     "execution_count": 4,
     "metadata": {},
     "output_type": "execute_result"
    }
   ],
   "source": [
    "train = pd.read_csv(path_to_dataset + \"/train.csv\")\n",
    "train.head()"
   ]
  },
  {
   "cell_type": "code",
   "execution_count": 5,
   "id": "97ccc2a1",
   "metadata": {},
   "outputs": [],
   "source": [
    "idx_to_label = {i: el for i, el in enumerate(train.label.unique())}\n",
    "label_to_idx = {el: i for i, el in enumerate(train.label.unique())}"
   ]
  },
  {
   "cell_type": "code",
   "execution_count": 6,
   "id": "84f9ae2f",
   "metadata": {},
   "outputs": [
    {
     "data": {
      "text/plain": [
       "30"
      ]
     },
     "execution_count": 6,
     "metadata": {},
     "output_type": "execute_result"
    }
   ],
   "source": [
    "train.label.nunique()"
   ]
  },
  {
   "cell_type": "code",
   "execution_count": 7,
   "id": "75a5b943",
   "metadata": {},
   "outputs": [],
   "source": [
    "class SportDataset(Dataset):\n",
    "    def __init__(self, data_path, transform=transforms.Compose([transforms.PILToTensor(),\n",
    "                                                               transforms.Resize((384,384)),\n",
    "                                                               transforms.ConvertImageDtype(float)])):\n",
    "        self.transform = transform\n",
    "        self.data_path = data_path\n",
    "        self.data = pd.read_csv(data_path + \"/train.csv\")\n",
    "        self.idx_to_label = {i: el for i, el in enumerate(self.data.label.unique())}\n",
    "        self.label_to_idx = {el: i for i, el in enumerate(self.data.label.unique())}\n",
    "        #print(self.label_to_idx)\n",
    "\n",
    "    def __getitem__(self, indx):\n",
    "        data = self.data.iloc[indx]\n",
    "        img = self.transform(Image.open(self.data_path + \"/train/\" + data[\"image_id\"]).convert('RGB'))\n",
    "        tensor = torch.zeros(self.data.label.nunique())\n",
    "        label = data[\"label\"]\n",
    "        tensor[self.label_to_idx[label]] = 1\n",
    "        return img.float().to(\"cuda:0\"), tensor.to(\"cuda:0\")\n",
    "\n",
    "    def __len__(self):\n",
    "        return self.data.shape[0]"
   ]
  },
  {
   "cell_type": "code",
   "execution_count": 8,
   "id": "f36f6b8c",
   "metadata": {},
   "outputs": [],
   "source": [
    "dataset = SportDataset(path_to_dataset)"
   ]
  },
  {
   "cell_type": "code",
   "execution_count": 9,
   "id": "cbe0288e",
   "metadata": {},
   "outputs": [],
   "source": [
    "train_loader = DataLoader(dataset, batch_size=32, shuffle=True)"
   ]
  },
  {
   "cell_type": "code",
   "execution_count": null,
   "id": "4cfade99",
   "metadata": {},
   "outputs": [],
   "source": [
    "# nimages = 0\n",
    "# mean = 0.\n",
    "# std = 0.\n",
    "# for batch, _ in train_loader:\n",
    "#     # Rearrange batch to be the shape of [B, C, W * H]\n",
    "#     batch = batch.view(batch.size(0), batch.size(1), -1)\n",
    "#     # Update total number of images\n",
    "#     nimages += batch.size(0)\n",
    "#     # Compute mean and std here\n",
    "#     mean += batch.mean(2).sum(0) \n",
    "#     std += batch.std(2).sum(0)\n",
    "\n",
    "# # Final step\n",
    "# mean /= nimages\n",
    "# std /= nimages\n",
    "\n",
    "# print(mean)\n",
    "# print(std)"
   ]
  },
  {
   "cell_type": "code",
   "execution_count": 14,
   "id": "19033e09",
   "metadata": {},
   "outputs": [
    {
     "name": "stdout",
     "output_type": "stream",
     "text": [
      "Loaded pretrained weights.\n"
     ]
    }
   ],
   "source": [
    "#model = models.resnet152(pretrained=True)\n",
    "from pytorch_pretrained_vit import ViT\n",
    "model = ViT('L_32_imagenet1k', pretrained=True)\n",
    "for param in model.parameters():\n",
    "    param.requires_grad = False"
   ]
  },
  {
   "cell_type": "code",
   "execution_count": 16,
   "id": "6df4becf",
   "metadata": {},
   "outputs": [],
   "source": [
    "num_ftrs = model.fc.in_features\n",
    "model.fc = nn.Sequential(nn.Linear(1024, train.label.nunique()))\n",
    "\n",
    "model = model.to(\"cuda:0\")\n",
    "criterion = nn.CrossEntropyLoss()\n",
    "optimizer = optim.SGD(model.parameters(), lr=0.01, momentum=0.9)"
   ]
  },
  {
   "cell_type": "code",
   "execution_count": 17,
   "id": "2894feec",
   "metadata": {},
   "outputs": [
    {
     "data": {
      "text/plain": [
       "Sequential(\n",
       "  (0): Linear(in_features=1024, out_features=30, bias=True)\n",
       ")"
      ]
     },
     "execution_count": 17,
     "metadata": {},
     "output_type": "execute_result"
    }
   ],
   "source": [
    "model.fc"
   ]
  },
  {
   "cell_type": "code",
   "execution_count": null,
   "id": "fc41721b",
   "metadata": {},
   "outputs": [],
   "source": [
    "for epoch in range(20):\n",
    "    running_loss = 0.0\n",
    "    for i, data in enumerate(train_loader, 0):\n",
    "        inputs, labels = data\n",
    "        inputs = inputs.to(\"cuda:0\")\n",
    "        labels = labels.to(\"cuda:0\")\n",
    "        \n",
    "        optimizer.zero_grad()\n",
    "        #print(inputs)\n",
    "        outputs = model(inputs)\n",
    "        #print(outputs, labels)\n",
    "        loss = criterion(outputs, labels)\n",
    "        loss.backward()\n",
    "        optimizer.step()\n",
    "        \n",
    "        running_loss += loss.item()\n",
    "    print(running_loss)\n",
    "print('Finished Training')"
   ]
  },
  {
   "cell_type": "code",
   "execution_count": null,
   "id": "af5ed17c",
   "metadata": {},
   "outputs": [],
   "source": [
    "test = pd.read_csv(path_to_dataset + \"/test.csv\")\n",
    "test.head()"
   ]
  },
  {
   "cell_type": "code",
   "execution_count": null,
   "id": "8679ecc6",
   "metadata": {},
   "outputs": [],
   "source": [
    "transform=transforms.Compose([transforms.PILToTensor(), transforms.Resize((384,384)),\n",
    "        transforms.ConvertImageDtype(float)])\n",
    "model.eval()\n",
    "j = 0\n",
    "answers = []\n",
    "for el in test.image_id:\n",
    "    img = transform(Image.open(path_to_dataset + \"/test/\" + el).convert('RGB'))\n",
    "    img = img.float().to(\"cuda:0\")\n",
    "    answers.append(idx_to_label[model(img.unsqueeze(0)).argmax().item()])\n",
    "test[\"label\"] = answers"
   ]
  },
  {
   "cell_type": "code",
   "execution_count": null,
   "id": "ac36eda9",
   "metadata": {},
   "outputs": [],
   "source": [
    "model(img.unsqueeze(0)).argmax().item()"
   ]
  },
  {
   "cell_type": "code",
   "execution_count": null,
   "id": "d91f87ba",
   "metadata": {},
   "outputs": [],
   "source": [
    "test.head()"
   ]
  },
  {
   "cell_type": "code",
   "execution_count": null,
   "id": "0f8e27fb",
   "metadata": {},
   "outputs": [],
   "source": [
    "test.to_csv(\"Kugushev_vit32L.csv\", index=False)"
   ]
  },
  {
   "cell_type": "code",
   "execution_count": null,
   "id": "2c2a4452",
   "metadata": {},
   "outputs": [],
   "source": [
    "e = pd.read_csv(\"Kugushev.csv\", index_col=False)\n",
    "e = e.drop('Unnamed: 0', axis=1)\n",
    "e.to_csv(\"Kugushev_seq512I.csv\", index=False)"
   ]
  },
  {
   "cell_type": "code",
   "execution_count": null,
   "id": "d0a550e2",
   "metadata": {},
   "outputs": [],
   "source": []
  },
  {
   "cell_type": "code",
   "execution_count": null,
   "id": "83c5d5be",
   "metadata": {},
   "outputs": [],
   "source": []
  }
 ],
 "metadata": {
  "kernelspec": {
   "display_name": "Python 3",
   "language": "python",
   "name": "python3"
  },
  "language_info": {
   "codemirror_mode": {
    "name": "ipython",
    "version": 3
   },
   "file_extension": ".py",
   "mimetype": "text/x-python",
   "name": "python",
   "nbconvert_exporter": "python",
   "pygments_lexer": "ipython3",
   "version": "3.6.9"
  }
 },
 "nbformat": 4,
 "nbformat_minor": 5
}
